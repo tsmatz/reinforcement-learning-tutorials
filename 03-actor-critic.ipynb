{
 "cells": [
  {
   "cell_type": "markdown",
   "id": "recent-bunch",
   "metadata": {},
   "source": [
    "# Actor-Critic Method in Reinforcement Learning\n",
    "\n",
    "Many successful algorithms in today's reinforcement learning (such as, PPO, SAC, etc) include the idea of dividing value and advantage.<br>\n",
    "Now we improve the previous vanilla [on-policy learning](./02-policy-gradient.ipynb) architecture with this idea and see the idea of Actor-Critic architecture intuitively.<br>\n",
    "In this example, I'll explain about Advantage Actor-Critic (shortly, A2C) algorithm.\n",
    "\n",
    "> Note : The idea of dividing value and advantage can be applied on many of algorithms including both on-policy and off-policy. See [DDPG](./05-ddpg.ipynb), which algorithm also divides value and advantage in off-policy algorithm.\n",
    "\n",
    "Actor-Critic is the mixed approach on both value-based Q-Learning method and policy-based method.<br>\n",
    "As we saw in [Q-Learning](./00-q-learning.ipynb), it holds $ Q(s_t,a_t) = r_t + \\gamma \\max_a{Q_t(s_{t+1},a)} $.<br>\n",
    "As you know, $ \\max_a{Q_t(s_{t+1},a)} $ won't depend on action $ a $. Then we can denote $ Q(s_t,a_t) = r_t + \\gamma V(s_{t+1}) $ where $ V(s) $ only depends on state $ s $. This $ V(s) $ is called a value-function.\n",
    "\n",
    "Now we separate $ Q(s_t,a_t) $ into the following two parts :\n",
    "\n",
    "- one is potential value $ V(s_t) $ not depending on $ a_t $\n",
    "- the other part is $ A(a_t, s_t) $ (which is called **advantage**) depending on $ a_t $ in state $ s_t $.\n",
    "\n",
    "Then $ A(a_t, s_t) $ can be written as :\n",
    "\n",
    "$$ A(a_t, s_t) = r_t + \\gamma V(s_{t+1}) - V(s_t) $$\n",
    "\n",
    "In this method, we generate a value-function (which can also be implemented by neural networks) $ V(s) $ and apply policy gradient for an advantage-function $ A(a, s) $. We should then generate 2 functions - value function and policy function - and optimize parameters in these 2 functions.<br>\n",
    "Intuitively, the value function is optimized for the value estimation in each state, and the policy function is optimized to take an appropriate action in that state.\n",
    "\n",
    "Remind that we have applied gradient descent (ascent) on $ E\\left[\\sum{\\gamma r}\\right] $ in [vanilla on-policy learning](./02-policy-gradient.ipynb) (previous example). By applying policy gradient on the reduced $ A(a, s) $ instead of $ E\\left[\\sum{\\gamma r}\\right] $, we can expect the stable convergence in complex problems, compared with vanilla policy gradient.\n",
    "\n",
    "For instance, imagine that the reward becomes so large.<br>\n",
    "In this situation, value will become large, and the value loss will then be larger rather than policy loss.<br>\n",
    "However, if the network (function) of policy and value are separated, both parameters can be appropriately optimized in the training respectively. (When these are not separated, it could happen that the policy loss will be ignored because it's relatively small, and not optimized enough eventually.)<br>\n",
    "Even when sharing parameters in the network (function) between value and policy, you can adjust the ratio for policy loss and value loss in Actor-Critic method, and both can then be appropriately optimized.\n",
    "\n",
    "You can run Actor-Critic-based training on both batch processing and non-batch processing.<br>\n",
    "For instance, when you run optimization on each episode (as a batch), you can estimate advantage $ A_t $ with $ \\sum{\\gamma r} - V(s_t) $.<br>\n",
    "When it's in the middle of episode, you can estimate with $ r_{t} + \\gamma r_{t+1} + \\cdots + \\gamma^{T-1-t} r_{T-1} + \\gamma^{T-t} V(s_T) - V(s_t) $.\n",
    "\n",
    "This is based on the idea of Q-Learning, but unlike Q-Learning, you can also operate stochastic and continuous problems with Actor-Critic architecture.\n",
    "\n",
    "*(back to [index](https://github.com/tsmatz/reinforcement-learning-tutorials/))*"
   ]
  },
  {
   "cell_type": "markdown",
   "id": "following-cement",
   "metadata": {},
   "source": [
    "First, please install the required packages and import these modules."
   ]
  },
  {
   "cell_type": "code",
   "execution_count": null,
   "id": "fbbf5284",
   "metadata": {},
   "outputs": [],
   "source": [
    "!pip install torch==1.13.1 --extra-index-url https://download.pytorch.org/whl/cpu"
   ]
  },
  {
   "cell_type": "code",
   "execution_count": null,
   "id": "secure-latex",
   "metadata": {},
   "outputs": [],
   "source": [
    "!pip install numpy gym matplotlib"
   ]
  },
  {
   "cell_type": "code",
   "execution_count": 1,
   "id": "scenic-detective",
   "metadata": {},
   "outputs": [],
   "source": [
    "import gym\n",
    "import numpy as np\n",
    "import torch\n",
    "import torch.nn as nn\n",
    "from torch.nn import functional as F"
   ]
  },
  {
   "cell_type": "markdown",
   "id": "engaged-chaos",
   "metadata": {},
   "source": [
    "The idea of Actor-Critic is similar to [policy gradient example](https://github.com/tsmatz/reinforcement-learning-tutorials/blob/master/02-policy-gradient.ipynb).<br>\n",
    "However, in Actor-Critic, we use a value function (the following ```ValueNet```) which estimates value (Q-value).\n",
    "\n",
    "In this example, we separate weight's parameters between policy network (actor) and value network.<br>\n",
    "However, you can also use shared network between policy and value. In that case, you should specify the ratio between policy loss and values loss.\n",
    "\n",
    "> In order to speed up learning, I have reduced the number of hidden neurons, compared with previous policy gradient example."
   ]
  },
  {
   "cell_type": "code",
   "execution_count": 2,
   "id": "f9a3a9d5",
   "metadata": {},
   "outputs": [],
   "source": [
    "device = torch.device(\"cuda\" if torch.cuda.is_available() else \"cpu\")\n",
    "\n",
    "class ActorNet(nn.Module):\n",
    "    def __init__(self, hidden_dim=16):\n",
    "        super().__init__()\n",
    "\n",
    "        self.hidden = nn.Linear(4, hidden_dim)\n",
    "        self.output = nn.Linear(hidden_dim, 2)\n",
    "\n",
    "    def forward(self, s):\n",
    "        outs = self.hidden(s)\n",
    "        outs = F.relu(outs)\n",
    "        logits = self.output(outs)\n",
    "        return logits\n",
    "\n",
    "class ValueNet(nn.Module):\n",
    "    def __init__(self, hidden_dim=16):\n",
    "        super().__init__()\n",
    "\n",
    "        self.hidden = nn.Linear(4, hidden_dim)\n",
    "        self.output = nn.Linear(hidden_dim, 1)\n",
    "\n",
    "    def forward(self, s):\n",
    "        outs = self.hidden(s)\n",
    "        outs = F.relu(outs)\n",
    "        value = self.output(outs)\n",
    "        return value\n",
    "\n",
    "actor_func = ActorNet().to(device)\n",
    "value_func = ValueNet().to(device)"
   ]
  },
  {
   "cell_type": "markdown",
   "id": "incident-completion",
   "metadata": {},
   "source": [
    "Now we optimize both policy gradient loss (following ```pi_loss```) and value loss (following ```vf_loss```) as follows.\n",
    "\n",
    "In this example,\n",
    "\n",
    "- I have separately optimized actor and critic with policy loss $ p $ (```pi_loss```) and value loss $ v $ (```vf_loss```) respectively. When they are shared, you should specify loss ratio $ 0 \\lt \\rho \\lt 1$ by computing $ (1-\\rho) p + \\rho v $.\n",
    "- I have simply used cumulative rewards $\\sum{\\gamma r}$ as an estimated value in batch. When it's in the middle of episode (when $\\sum{\\gamma r}$ is unknown), you can also use $ r_{t} + \\gamma V(s_{t+1}) $ instead.\n",
    "\n",
    "> Note : The log probability is equivalent to the negative value of cross-entropy error in categorical distribution. Same like [policy gradient example](https://github.com/tsmatz/reinforcement-learning-tutorials/blob/master/02-policy-gradient.ipynb), I have used ```-torch.nn.functional.cross_entropy()``` to get log probability in the following code."
   ]
  },
  {
   "cell_type": "code",
   "execution_count": 3,
   "id": "sublime-basin",
   "metadata": {},
   "outputs": [
    {
     "name": "stderr",
     "output_type": "stream",
     "text": [
      "/home/tsmatsuz/.local/lib/python3.8/site-packages/gym/utils/passive_env_checker.py:233: DeprecationWarning: `np.bool8` is a deprecated alias for `np.bool_`.  (Deprecated NumPy 1.24)\n",
      "  if not isinstance(terminated, (bool, np.bool8)):\n"
     ]
    },
    {
     "name": "stdout",
     "output_type": "stream",
     "text": [
      "Run episode1052 with rewards 500.0\n",
      "Done\n"
     ]
    }
   ],
   "source": [
    "gamma = 0.99\n",
    "\n",
    "# pick up action with above distribution policy_pi\n",
    "def pick_sample(s):\n",
    "    with torch.no_grad():\n",
    "        #   --> size : (1, 4)\n",
    "        s_batch = np.expand_dims(s, axis=0)\n",
    "        s_batch = torch.tensor(s_batch, dtype=torch.float).to(device)\n",
    "        # Get logits from state\n",
    "        #   --> size : (1, 2)\n",
    "        logits = actor_func(s_batch)\n",
    "        #   --> size : (2)\n",
    "        logits = logits.squeeze(dim=0)\n",
    "        # From logits to probabilities\n",
    "        probs = F.softmax(logits, dim=-1)\n",
    "        # Pick up action's sample\n",
    "        a = torch.multinomial(probs, num_samples=1)\n",
    "        # Return\n",
    "        return a.tolist()[0]\n",
    "\n",
    "env = gym.make(\"CartPole-v1\")\n",
    "reward_records = []\n",
    "opt1 = torch.optim.AdamW(value_func.parameters(), lr=0.001)\n",
    "opt2 = torch.optim.AdamW(actor_func.parameters(), lr=0.001)\n",
    "for i in range(1500):\n",
    "    #\n",
    "    # Run episode till done\n",
    "    #\n",
    "    done = False\n",
    "    states = []\n",
    "    actions = []\n",
    "    rewards = []\n",
    "    s, _ = env.reset()\n",
    "    while not done:\n",
    "        states.append(s.tolist())\n",
    "        a = pick_sample(s)\n",
    "        s, r, term, trunc, _ = env.step(a)\n",
    "        done = term or trunc\n",
    "        actions.append(a)\n",
    "        rewards.append(r)\n",
    "\n",
    "    #\n",
    "    # Get cumulative rewards\n",
    "    #\n",
    "    cum_rewards = np.zeros_like(rewards)\n",
    "    reward_len = len(rewards)\n",
    "    for j in reversed(range(reward_len)):\n",
    "        cum_rewards[j] = rewards[j] + (cum_rewards[j+1]*gamma if j+1 < reward_len else 0)\n",
    "\n",
    "    #\n",
    "    # Train (optimize parameters)\n",
    "    #\n",
    "\n",
    "    # Optimize value loss (Critic)\n",
    "    opt1.zero_grad()\n",
    "    states = torch.tensor(states, dtype=torch.float).to(device)\n",
    "    cum_rewards = torch.tensor(cum_rewards, dtype=torch.float).to(device)\n",
    "    values = value_func(states)\n",
    "    values = values.squeeze(dim=1)\n",
    "    vf_loss = F.mse_loss(\n",
    "        values,\n",
    "        cum_rewards,\n",
    "        reduction=\"none\")\n",
    "    vf_loss.sum().backward()\n",
    "    opt1.step()\n",
    "\n",
    "    # Optimize policy loss (Actor)\n",
    "    with torch.no_grad():\n",
    "        values = value_func(states)\n",
    "    opt2.zero_grad()\n",
    "    actions = torch.tensor(actions, dtype=torch.int64).to(device)\n",
    "    advantages = cum_rewards - values\n",
    "    logits = actor_func(states)\n",
    "    log_probs = -F.cross_entropy(logits, actions, reduction=\"none\")\n",
    "    pi_loss = -log_probs * advantages\n",
    "    pi_loss.sum().backward()\n",
    "    opt2.step()\n",
    "\n",
    "    # Output total rewards in episode (max 500)\n",
    "    print(\"Run episode{} with rewards {}\".format(i, sum(rewards)), end=\"\\r\")\n",
    "    reward_records.append(sum(rewards))\n",
    "\n",
    "    # stop if reward mean > 475.0\n",
    "    if np.average(reward_records[-50:]) > 475.0:\n",
    "        break\n",
    "\n",
    "print(\"\\nDone\")\n",
    "env.close()"
   ]
  },
  {
   "cell_type": "code",
   "execution_count": 4,
   "id": "every-appointment",
   "metadata": {},
   "outputs": [
    {
     "data": {
      "text/plain": [
       "[<matplotlib.lines.Line2D at 0x7f6fb3a4a9a0>]"
      ]
     },
     "execution_count": 4,
     "metadata": {},
     "output_type": "execute_result"
    },
    {
     "data": {
      "image/png": "[encoded data removed]",
      "text/plain": [
       "<Figure size 640x480 with 1 Axes>"
      ]
     },
     "metadata": {},
     "output_type": "display_data"
    }
   ],
   "source": [
    "import matplotlib.pyplot as plt\n",
    "# Generate recent 50 interval average\n",
    "average_reward = []\n",
    "for idx in range(len(reward_records)):\n",
    "    avg_list = np.empty(shape=(1,), dtype=int)\n",
    "    if idx < 50:\n",
    "        avg_list = reward_records[:idx+1]\n",
    "    else:\n",
    "        avg_list = reward_records[idx-49:idx+1]\n",
    "    average_reward.append(np.average(avg_list))\n",
    "plt.plot(reward_records)\n",
    "plt.plot(average_reward)"
   ]
  },
  {
   "cell_type": "code",
   "execution_count": null,
   "id": "designing-three",
   "metadata": {},
   "outputs": [],
   "source": []
  }
 ],
 "metadata": {
  "kernelspec": {
   "display_name": "Python 3 (ipykernel)",
   "language": "python",
   "name": "python3"
  },
  "language_info": {
   "codemirror_mode": {
    "name": "ipython",
    "version": 3
   },
   "file_extension": ".py",
   "mimetype": "text/x-python",
   "name": "python",
   "nbconvert_exporter": "python",
   "pygments_lexer": "ipython3",
   "version": "3.10.12"
  }
 },
 "nbformat": 4,
 "nbformat_minor": 5
}
