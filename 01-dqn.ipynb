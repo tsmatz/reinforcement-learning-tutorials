{
 "cells": [
  {
   "cell_type": "markdown",
   "id": "recent-bunch",
   "metadata": {},
   "source": [
    "# Deep Q-Network (DQN)\n",
    "\n",
    "Deep Q-Network (DQN) is a neural network (deep learning) method, which idea is strongly motivated by plain Q-learning discussed in [previous example](./00-q-learning.ipynb).\n",
    "\n",
    "As we saw in the [previous tutorial](./00-q-learning.ipynb), discretizing states in Q-table is not computationally efficient and not smart.<br>\n",
    "To address this concern, in deep Q-learning algorithm, we apply Q-function instead of Q-table to get optimal action for the current state, and implement this function by building neural networks (deep learning), called Q-network. (See below.)\n",
    "\n",
    "![Q-Network](./assets/q-network.png)\n",
    "\n",
    "Same as [previous tutorial](./00-q-learning.ipynb), we then optimize Q-network (instead of Q-table) to meet the actual experiments, but there exist several tricks to improve training stability in Deep Q-Network (DQN) algorithm.\n",
    "\n",
    "Now let's see what these tricks are and how these are implemented.\n",
    "\n",
    "*(back to [index](https://github.com/tsmatz/reinforcement-learning-tutorials/))*"
   ]
  },
  {
   "cell_type": "markdown",
   "id": "7c74d6f6-2213-4721-af4e-781ed6596266",
   "metadata": {},
   "source": [
    "First, please install the required packages and import these modules."
   ]
  },
  {
   "cell_type": "code",
   "execution_count": null,
   "id": "6122c6bd",
   "metadata": {},
   "outputs": [],
   "source": [
    "!pip install torch==1.13.1 --extra-index-url https://download.pytorch.org/whl/cpu"
   ]
  },
  {
   "cell_type": "code",
   "execution_count": null,
   "id": "3558de16",
   "metadata": {},
   "outputs": [],
   "source": [
    "!pip install gym matplotlib numpy"
   ]
  },
  {
   "cell_type": "code",
   "execution_count": 1,
   "id": "aa81765d",
   "metadata": {},
   "outputs": [],
   "source": [
    "import random\n",
    "import numpy as np\n",
    "import gym\n",
    "import torch\n",
    "import torch.nn as nn\n",
    "from torch.nn import functional as F"
   ]
  },
  {
   "cell_type": "markdown",
   "id": "c63f4bfb-a28f-4d2d-a8f2-5217e932fc09",
   "metadata": {},
   "source": [
    "Firstly, we will start with the following equation (Bellman equation) discussed in [Q-learning](./00-q-learning.ipynb) :\n",
    "\n",
    "$$ Q^{*}(s_t,a_t) = r_t + \\gamma \\max_a{Q(s_{t+1},a)}$$\n",
    "\n",
    "where $ Q^{*} $ means the optimal $ Q $ value.\n",
    "\n",
    "Same as [previous example](./00-q-learning.ipynb), here we optimize this Q-function $ Q(\\cdot) $ to minimize the difference between $ r_t + \\gamma \\max_a{Q(s_{t+1},a)} $ and $ Q(s_t,a_t) $ with epsilon-greedy sampling. (See [previous example](./00-q-learning.ipynb) for epsilon-greedy sampling.)\n",
    "\n",
    "However, in DQN, we separate a network for generating the target $ \\max_a{Q(s_{t+1},a)} $ from the original Q-network $ Q(s_t,a_t) $. (See below picture.)<br>\n",
    "Remember that we also have updated the value of only current state $ s_t $ (not the next state $ s_{t+1} $) in previous example. If the target network is same as Q-network, the weights of target is also changed in optimization, and it will eventually lose the stability of training. The algorithm then separates a target network to keep the weights of target network not updated (not trained) in optimization. (See below note.)\n",
    "\n",
    "> Note : Especially, when it has an explicit goal state, firstly the states near the goal state are then optimized, and other states will gradually be optimized in order from the goal to start. Finally the trajectory to reach the goal will be found by optimization.<br>\n",
    "> When it has an explicit fail state, it's also the same. (The trajectory not to fail will be found by optimization.)<br>\n",
    "> In this situation, the value of $ s_{t+1} $ will be optimized before the optimization of the value of $ s_t $. (The optimization of $ s_t $ strongly depends on the optimization of $ s_{t+1} $.)\n",
    "\n",
    "Every $ C $ updates, it then clone Q-network to obtain a new target network. i.e, The update of target Q-Network is deplayed.<br>\n",
    "(In this example, we'll set $ C=50 $.)\n",
    "\n",
    "![2 networks in DQN](./assets/dqn-2-networks.png)\n",
    "\n",
    "Thus we build 2 networks - Q-network and target Q-network - as follows.<br>\n",
    "This network (PyTorch module) outputs 2 values, in which each value corresponds to the expected Q-value in each action. (See [previous example](./00-q-learning.ipynb) for Q-value.)<br>\n",
    "In this CartPole example, we have 2 actions (left or right) and it then outputs 2 corresponding values."
   ]
  },
  {
   "cell_type": "code",
   "execution_count": 2,
   "id": "07467ea9-0d5b-4296-92cc-3b19420045a2",
   "metadata": {},
   "outputs": [],
   "source": [
    "device = torch.device(\"cuda\" if torch.cuda.is_available() else \"cpu\")\n",
    "\n",
    "class QNet(nn.Module):\n",
    "    def __init__(self, hidden_dim=64):\n",
    "        super().__init__()\n",
    "\n",
    "        self.hidden = nn.Linear(4, hidden_dim)\n",
    "        self.output = nn.Linear(hidden_dim, 2)\n",
    "\n",
    "    def forward(self, s):\n",
    "        outs = self.hidden(s)\n",
    "        outs = F.relu(outs)\n",
    "        outs = self.output(outs)\n",
    "        return outs\n",
    "\n",
    "q_model = QNet().to(device)\n",
    "q_target_model = QNet().to(device)\n",
    "q_target_model.load_state_dict(q_model.state_dict())\n",
    "_ = q_target_model.requires_grad_(False)  # target q-network doen't need grad"
   ]
  },
  {
   "cell_type": "markdown",
   "id": "126dd724",
   "metadata": {},
   "source": [
    "In primitive [Q-learning example](./00-q-learning.ipynb), we fed the sequential samples (trajectory) for each training (for optimizing Q-table).<br>\n",
    "In DQN, to prevent from learning only for recent experiences and improve training stability, we use a replay memory (also called experience replay). The algorithm stores the last $ N $ experience tuples in this replay memory, and samples uniformly at random when performing updates. (See [paper](https://web.stanford.edu/class/psych209/Readings/MnihEtAlHassibis15NatureControlDeepRL.pdf).)"
   ]
  },
  {
   "cell_type": "code",
   "execution_count": 3,
   "id": "dc9a6459-b2bf-4c40-abb9-3d542b6cc955",
   "metadata": {},
   "outputs": [],
   "source": [
    "class replayMemory:\n",
    "    def __init__(self, buffer_size: int):\n",
    "        self.buffer_size = buffer_size\n",
    "        self.buffer = []\n",
    "\n",
    "    def add(self, item):\n",
    "        if len(self.buffer) == self.buffer_size:\n",
    "            self.buffer.pop(0)\n",
    "        self.buffer.append(item)\n",
    "\n",
    "    def sample(self, sample_size):\n",
    "        # sampling\n",
    "        items = random.sample(self.buffer, sample_size)\n",
    "        # divide each columns\n",
    "        states   = [i[0] for i in items]\n",
    "        actions  = [i[1] for i in items]\n",
    "        rewards  = [i[2] for i in items]\n",
    "        n_states = [i[3] for i in items]\n",
    "        dones    = [i[4] for i in items]\n",
    "        # convert to tensor\n",
    "        states = torch.tensor(states, dtype=torch.float).to(device)\n",
    "        actions = torch.tensor(actions, dtype=torch.int64).to(device)\n",
    "        rewards = torch.tensor(rewards, dtype=torch.float).to(device)\n",
    "        n_states = torch.tensor(n_states, dtype=torch.float).to(device)\n",
    "        dones = torch.tensor(dones, dtype=torch.float).to(device)\n",
    "        # return result\n",
    "        return states, actions, rewards, n_states, dones\n",
    "\n",
    "    def length(self):\n",
    "        return len(self.buffer)\n",
    "\n",
    "memory = replayMemory(buffer_size=10000)"
   ]
  },
  {
   "cell_type": "markdown",
   "id": "6ac66f74-8375-42dd-a8c4-c98d15fb1aff",
   "metadata": {},
   "source": [
    "In DQN, we'll minimize MSE (mean square error) to optimize as follows.<br>\n",
    "In neural network, this value is called a loss and the network is then updated (optimized) to minimize a loss. :\n",
    "\n",
    "$$ L = E \\left[ \\left( \\left( r_t + \\gamma \\max_a{Q(s_{t+1},a)} \\right) - Q(s_t,a) \\right)^2 \\right] $$\n",
    "\n",
    "> Note : I have denoted as $ E[\\cdot] $ (i.e, expected value), because the neural network is optimized to minimize loss for all possible samples in batch, not only for a single loss.<br>\n",
    "> This (expected value) is also stylized as $ \\mathbb{E} [\\cdot] $.\n",
    "\n",
    "However, when it's terminal state in episode, the next state doesn't exist and a loss becomes $ ( r_t - Q(s_t,a) )^2 $.<br>\n",
    "So the final loss expression will become :\n",
    "\n",
    "$$ L = E \\left[ \\left( \\left( r_t + \\gamma (1 - d_t) \\max_a{Q(s_{t+1},a)} \\right) - Q(s_t,a) \\right)^2 \\right] $$\n",
    "\n",
    "where $d_t = 1$ if the episode is done, and $0$ otherwise.\n",
    "\n",
    "> Note : CartPole returns \"done\" flag as termination (term) or truncation (trunc) separately.<br>\n",
    "> When it fails and is terminated, it returns True in termination flag. When it reaches to max 500 actions, it returns True in truncation flag. (See [Readme.md](./Readme.md).)<br>\n",
    "> For this reason, we will set $d_t=1$ only when termination is True. (If we set $d_t=1$ in truncation, the q-value in this state will then be underestimated, even though it's successful.)"
   ]
  },
  {
   "cell_type": "code",
   "execution_count": 4,
   "id": "8902452c-0d35-44ab-9d36-a23abe8dad1e",
   "metadata": {},
   "outputs": [],
   "source": [
    "gamma = 0.99\n",
    "\n",
    "opt = torch.optim.Adam(q_model.parameters(), lr=0.0005)\n",
    "\n",
    "def optimize(states, actions, rewards, next_states, dones):\n",
    "    #\n",
    "    # Compute target\n",
    "    #\n",
    "\n",
    "    with torch.no_grad():\n",
    "        # compute Q(s_{t+1})                               : size=[batch_size, 2]\n",
    "        target_vals_for_all_actions = q_target_model(next_states)\n",
    "        # compute argmax_a Q(s_{t+1})                      : size=[batch_size]\n",
    "        target_actions = torch.argmax(target_vals_for_all_actions, 1)\n",
    "        # compute max Q(s_{t+1})                           : size=[batch_size]\n",
    "        target_actions_one_hot = F.one_hot(target_actions, env.action_space.n).float()\n",
    "        target_vals = torch.sum(target_vals_for_all_actions * target_actions_one_hot, 1)\n",
    "        # compute r_t + gamma * (1 - d_t) * max Q(s_{t+1}) : size=[batch_size]\n",
    "        target_vals_masked = (1.0 - dones) * target_vals\n",
    "        q_vals1 = rewards + gamma * target_vals_masked\n",
    "\n",
    "    opt.zero_grad()\n",
    "\n",
    "    #\n",
    "    # Compute q-value\n",
    "    #\n",
    "    actions_one_hot = F.one_hot(actions, env.action_space.n).float()\n",
    "    q_vals2 = torch.sum(q_model(states) * actions_one_hot, 1)\n",
    "\n",
    "    #\n",
    "    # Get MSE loss and optimize\n",
    "    #\n",
    "    loss = F.mse_loss(\n",
    "        q_vals1.detach(),\n",
    "        q_vals2,\n",
    "        reduction=\"mean\")\n",
    "    loss.backward()\n",
    "    opt.step()"
   ]
  },
  {
   "cell_type": "markdown",
   "id": "24fdde57-02de-4baf-b82a-60690e02c6ff",
   "metadata": {},
   "source": [
    "Now let's put it all together and start training (optimizing Q-network).\n",
    "\n",
    "As you saw in [previous example](./00-q-learning.ipynb), we also apply epsilon-greedy strategy for sampling actions.<br>\n",
    "When it always picks up random actions, the agent won't converge into the optimal behaviors. On contrary, when it always picks up the optimal action, it never explore the new actions and it won't then also converge into the optimal behaviors.<br>\n",
    "With epsilon-greedy strategy, it explores new actions in early stage, but gradually picks up the optimal actions to train. (This strategy adjusts the trade-off between exploration and exploitation.)"
   ]
  },
  {
   "cell_type": "code",
   "execution_count": 5,
   "id": "2c8bc368",
   "metadata": {},
   "outputs": [
    {
     "name": "stderr",
     "output_type": "stream",
     "text": [
      "/home/tsmatsuz/.local/lib/python3.10/site-packages/gym/utils/passive_env_checker.py:233: DeprecationWarning: `np.bool8` is a deprecated alias for `np.bool_`.  (Deprecated NumPy 1.24)\n",
      "  if not isinstance(terminated, (bool, np.bool8)):\n"
     ]
    },
    {
     "name": "stdout",
     "output_type": "stream",
     "text": [
      "Run iteration 9754 rewards 500.0 epsilon 0.10000\n",
      "Done\n"
     ]
    }
   ],
   "source": [
    "sampling_size = 64 * 30\n",
    "batch_size = 64\n",
    "\n",
    "epsilon = 1.0\n",
    "epsilon_decay = epsilon / 3000\n",
    "epsilon_final = 0.1\n",
    "\n",
    "env = gym.make(\"CartPole-v1\")\n",
    "\n",
    "# pick up action from q-network with greedy exploration\n",
    "def pick_sample(s, epsilon):\n",
    "    with torch.no_grad():\n",
    "        # get optimal action,\n",
    "        # but with greedy exploration (to prevent picking up same values in the first stage)\n",
    "        if np.random.random() > epsilon:\n",
    "            s_batch = torch.tensor(s, dtype=torch.float).to(device)\n",
    "            s_batch = s_batch.unsqueeze(dim=0)  # to make batch with size=1\n",
    "            q_vals_for_all_actions = q_model(s_batch)\n",
    "            a = torch.argmax(q_vals_for_all_actions, 1)\n",
    "            a = a.squeeze(dim=0)\n",
    "            a = a.tolist()\n",
    "        else:\n",
    "            a = np.random.randint(0, env.action_space.n)\n",
    "        return a\n",
    "\n",
    "# evaluate current agent with no exploration\n",
    "def evaluate():\n",
    "    with torch.no_grad():\n",
    "        s, _ = env.reset()\n",
    "        done = False\n",
    "        total = 0\n",
    "        while not done:\n",
    "            a = pick_sample(s, 0.0)\n",
    "            s_next, r, term, trunc, _ = env.step(a)\n",
    "            done = term or trunc\n",
    "            total += r\n",
    "            s = s_next\n",
    "        return total\n",
    "\n",
    "reward_records = []\n",
    "for _ in range(15000):\n",
    "    # Run episode till it picks up 500 samples\n",
    "    # (All samples are stored in reply memory.)\n",
    "    done = True\n",
    "    for _ in range(500):\n",
    "        if done:\n",
    "            s, _ = env.reset()\n",
    "            done = False\n",
    "            cum_reward = 0\n",
    "\n",
    "        a = pick_sample(s, epsilon)\n",
    "        s_next, r, term, trunc, _ = env.step(a)\n",
    "        done = term or trunc\n",
    "        memory.add([s.tolist(), a, r, s_next.tolist(), float(term)])  # (see above note for truncation)\n",
    "        cum_reward += r\n",
    "        s = s_next\n",
    "\n",
    "    # Init replay memory (without updates) till 2000 samples are filled\n",
    "    if memory.length() < 2000:\n",
    "        continue\n",
    "\n",
    "    # Optimize Q-network with a batch from replay memory\n",
    "    states, actions, rewards, n_states, dones = memory.sample(sampling_size)\n",
    "    states = torch.reshape(states, (-1, batch_size, 4))\n",
    "    actions = torch.reshape(actions, (-1, batch_size))\n",
    "    rewards = torch.reshape(rewards, (-1, batch_size))\n",
    "    n_states = torch.reshape(n_states, (-1, batch_size, 4))\n",
    "    dones = torch.reshape(dones, (-1, batch_size))\n",
    "    for j in range(actions.size(dim=0)):\n",
    "        optimize(states[j], actions[j], rewards[j], n_states[j], dones[j])\n",
    "    total_reward = evaluate()\n",
    "    reward_records.append(total_reward)\n",
    "    iteration_num = len(reward_records)\n",
    "    print(\"Run iteration {} rewards {:3} epsilon {:1.5f}\".format(iteration_num, total_reward, epsilon), end=\"\\r\")\n",
    "\n",
    "    # Clone Q-network to obtain target\n",
    "    if iteration_num % 50 == 0:\n",
    "        q_target_model.load_state_dict(q_model.state_dict())\n",
    "\n",
    "    # Update epsilon\n",
    "    if epsilon - epsilon_decay >= epsilon_final:\n",
    "        epsilon -= epsilon_decay\n",
    "\n",
    "    # stop if reward mean > 495.0\n",
    "    if np.average(reward_records[-200:]) > 495.0:\n",
    "       break\n",
    "\n",
    "env.close()\n",
    "print(\"\\nDone\")"
   ]
  },
  {
   "cell_type": "code",
   "execution_count": 6,
   "id": "22551051-02c7-4a3b-a2ea-43b40c8b4560",
   "metadata": {},
   "outputs": [
    {
     "data": {
      "text/plain": [
       "[<matplotlib.lines.Line2D at 0x74fe2aef8490>]"
      ]
     },
     "execution_count": 6,
     "metadata": {},
     "output_type": "execute_result"
    },
    {
     "data": {
      "image/png": "[encoded data removed]",
      "text/plain": [
       "<Figure size 640x480 with 1 Axes>"
      ]
     },
     "metadata": {},
     "output_type": "display_data"
    }
   ],
   "source": [
    "import matplotlib.pyplot as plt\n",
    "# Generate recent 150 interval average\n",
    "average_reward = []\n",
    "for idx in range(len(reward_records)):\n",
    "    avg_list = np.empty(shape=(1,), dtype=int)\n",
    "    if idx < 150:\n",
    "        avg_list = reward_records[:idx+1]\n",
    "    else:\n",
    "        avg_list = reward_records[idx-149:idx+1]\n",
    "    average_reward.append(np.average(avg_list))\n",
    "plt.plot(reward_records)\n",
    "plt.plot(average_reward)"
   ]
  },
  {
   "cell_type": "markdown",
   "id": "1763b279-56ea-4c29-b2e0-89a378f1b60b",
   "metadata": {},
   "source": [
    "In this example, I have briefly showed you a neural network architecture, DQN, which is motivated by Q-learning.\n",
    "\n",
    "Today, in order to prevent overestimation, there exist variants of deep Q-learning - such as, **Double DQN** (which decouples Q-network for selecting actions from Q-network for evaluating actions) or **Dueling DQN** (in which dueling architecture explicitly separates value and advantage. see [Actor-Critic method](./03-actor-critic.ipynb) for value and advantage).<br>\n",
    "See [TD3](./05-ddpg.ipynb) or [SAC](./06-sac.ipynb) for more advanced off-policy algorithms and the implementation to apply double Q-learning."
   ]
  },
  {
   "cell_type": "code",
   "execution_count": null,
   "id": "ee766487-ccb3-4c0a-b583-1a79b3d735e3",
   "metadata": {},
   "outputs": [],
   "source": []
  }
 ],
 "metadata": {
  "kernelspec": {
   "display_name": "Python 3 (ipykernel)",
   "language": "python",
   "name": "python3"
  },
  "language_info": {
   "codemirror_mode": {
    "name": "ipython",
    "version": 3
   },
   "file_extension": ".py",
   "mimetype": "text/x-python",
   "name": "python",
   "nbconvert_exporter": "python",
   "pygments_lexer": "ipython3",
   "version": "3.10.12"
  }
 },
 "nbformat": 4,
 "nbformat_minor": 5
}
